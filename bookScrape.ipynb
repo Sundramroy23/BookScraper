{
 "cells": [
  {
   "cell_type": "code",
   "execution_count": null,
   "metadata": {},
   "outputs": [],
   "source": [
    "import requests\n",
    "from bs4 import BeautifulSoup\n",
    "import pandas as pd\n",
    "from tqdm import tqdm\n",
    "import time\n",
    "import matplotlib.pyplot as plt"
   ]
  },
  {
   "cell_type": "code",
   "execution_count": null,
   "metadata": {},
   "outputs": [],
   "source": [
    "\n",
    "# List to store the extracted information\n",
    "lst_for_db = []\n",
    "\n",
    "# User-Agent to mimic browser requests\n",
    "headers = {\n",
    "    \"User-Agent\": \"Mozilla/5.0 (Windows NT 10.0; Win64; x64) AppleWebKit/537.36 (KHTML, like Gecko) Chrome/58.0.3029.110 Safari/537.3\"\n",
    "}\n",
    "\n",
    "# Function to fetch page content with retries and exponential backoff\n",
    "def fetch_page(url, retries=3):\n",
    "    delay = 1\n",
    "    for i in range(retries):\n",
    "        try:\n",
    "            response = requests.get(url, headers=headers, timeout=10)\n",
    "            response.raise_for_status()  # Raise an exception for HTTP errors\n",
    "            return response.text\n",
    "        except requests.exceptions.RequestException as e:\n",
    "            print(f\"Error: {e}, retrying in {delay} seconds...\")\n",
    "            time.sleep(delay)\n",
    "            delay += 2  # Exponential backoff\n",
    "    print(f\"Failed to retrieve {url} after {retries} attempts\")\n",
    "    return None\n",
    "\n",
    "# Loop through pages\n",
    "for i in tqdm(range(1, 51)):\n",
    "    url = f\"https://books.toscrape.com/catalogue/page-{i}.html\"\n",
    "    html_content = fetch_page(url)\n",
    "    \n",
    "    if html_content is None:\n",
    "        continue\n",
    "    \n",
    "    soup = BeautifulSoup(html_content, \"html.parser\")\n",
    "    \n",
    "    for sp in soup.find_all(\"li\", class_=\"col-xs-6 col-sm-4 col-md-3 col-lg-3\"):\n",
    "        author = sp.h3.a.get(\"title\")\n",
    "        page_link = \"https://books.toscrape.com/catalogue/\" + sp.a.get(\"href\")\n",
    "        img_link = \"https://books.toscrape.com/\" + sp.img.get(\"src\")\n",
    "        rating = sp.find(\"p\").get(\"class\")[-1]\n",
    "        price = sp.find(class_=\"price_color\").text[1:]\n",
    "        availability = sp.find(\"p\", class_=\"instock availability\").text.strip()\n",
    "        \n",
    "        lst_for_db.append([author, page_link, img_link, rating, price, availability])\n",
    "    \n",
    "    # Delay to prevent rate limiting\n",
    "    time.sleep(2)\n",
    "\n",
    "# Print the collected data\n",
    "for entry in lst_for_db:\n",
    "    print(entry)\n"
   ]
  },
  {
   "cell_type": "code",
   "execution_count": null,
   "metadata": {},
   "outputs": [],
   "source": [
    "# lets dump it into a dataframe\n",
    "df = pd.DataFrame(lst_for_db,columns=['Book','Description','Image','Rating','Price','Availability'] )\n",
    "df.to_json(\"Bookscrape.json\",indent=4)"
   ]
  }
 ],
 "metadata": {
  "kernelspec": {
   "display_name": "base",
   "language": "python",
   "name": "python3"
  },
  "language_info": {
   "codemirror_mode": {
    "name": "ipython",
    "version": 3
   },
   "file_extension": ".py",
   "mimetype": "text/x-python",
   "name": "python",
   "nbconvert_exporter": "python",
   "pygments_lexer": "ipython3",
   "version": "3.11.7"
  }
 },
 "nbformat": 4,
 "nbformat_minor": 2
}
